{
 "cells": [
  {
   "cell_type": "code",
   "execution_count": 2,
   "metadata": {},
   "outputs": [],
   "source": [
    "import pandas as pd\n",
    "import numpy as np"
   ]
  },
  {
   "cell_type": "markdown",
   "metadata": {},
   "source": [
    "# 유동인구"
   ]
  },
  {
   "cell_type": "code",
   "execution_count": 5,
   "metadata": {},
   "outputs": [],
   "source": [
    "nowon = pd.read_csv('../data/유동인구/성연령별_노원구_유동인구.csv',encoding='euc-kr')\n",
    "jonglo = pd.read_csv('../data/유동인구/성연령별_종로구_유동인구.csv',encoding='euc-kr')\n",
    "# del nowon['Unnamed: 0']\n",
    "# del jonglo['Unnamed: 0']"
   ]
  },
  {
   "cell_type": "code",
   "execution_count": 6,
   "metadata": {},
   "outputs": [],
   "source": [
    "# 종로구\n",
    "a = jonglo.groupby([jonglo.Date,jonglo.Dong]).sum()\n",
    "jonglo_pop = pd.DataFrame(a.sum(axis=1))\n",
    "jonglo_pop.reset_index(inplace=True)\n",
    "# jldong의 이름으로 동별 데이터프레임 만들기\n",
    "jldong = ['gahui','gyonam','muak','buam','sajik','samcheong','soongin_1','soongin_2','ewha','jonglo_1234','jonglo_56',\n",
    "       'changsin_1','changsin_2','changsin_3','cwhyoja','pyeongchang','hyehwa']\n",
    "# n = 0\n",
    "# for file_path in file_path_list:\n",
    "#     name = files[n].split('.')[0]\n",
    "#     exec(\"%s = read_file('%s')\" %(name,file_path)) \n",
    "#     n += 1\n",
    "n=0\n",
    "for dong in jonglo_pop['Dong'].unique():\n",
    "    name = jldong[n]\n",
    "    exec(\"%s = jonglo_pop[jonglo_pop['Dong']== '%s']\" %(name,dong))\n",
    "    n+=1"
   ]
  },
  {
   "cell_type": "code",
   "execution_count": 7,
   "metadata": {},
   "outputs": [],
   "source": [
    "# 노원구\n",
    "b = nowon.groupby([nowon.Date,nowon.Dong]).sum()\n",
    "nowon_pop = pd.DataFrame(b.sum(axis=1))\n",
    "nowon_pop.reset_index(inplace=True)\n",
    "nwdong = ['gongleung_1','gongleung_2','sanggye_10','sanggye_1','sanggye_2','sanggye_34','sanggye_5','sanggye_67',\n",
    "          'sanggye_8','sanggye_9','weolgye_1','weolgye_2','weolgye_3','joonggye_1','joonggye_23','joonggye_4','joonggyebon','hagye_1',\n",
    "         'hagye_2']\n",
    "n=0\n",
    "for dong in nowon_pop['Dong'].unique():\n",
    "    name = nwdong[n]\n",
    "    exec(\"%s = nowon_pop[nowon_pop['Dong']== '%s']\" %(name,dong))\n",
    "    n+=1\n"
   ]
  },
  {
   "cell_type": "markdown",
   "metadata": {},
   "source": [
    "# 미세먼지 노원구"
   ]
  },
  {
   "cell_type": "code",
   "execution_count": 9,
   "metadata": {},
   "outputs": [],
   "source": [
    "nwdong2 = ['공릉1동','공릉2동','상계10동','상계1동','상계2동','상계34동','상계5동','상계67동','상계8동','상계9동','월계1동',\n",
    "          '월계2동','월계3동','중계1동','중계23동','중계4동','중계본동','하계1동','하계2동']\n",
    "for i in nwdong2:\n",
    "    file_path = i + \".csv\"\n",
    "    exec(\"%s = pd.read_csv('../data/환경기상데이터/노원구/%s')\" %(i,file_path))\n",
    "    exec(\"%s.columns = ['date','pm10']\" %i)\n",
    "    exec(\"%s[['date']] = %s[['date']].astype(str)\" %(i,i))\n",
    "    exec(\"%s.set_index('date',inplace=True)\" %i)"
   ]
  },
  {
   "cell_type": "markdown",
   "metadata": {},
   "source": [
    "# 노원구와 유동인구 합치기"
   ]
  },
  {
   "cell_type": "code",
   "execution_count": 11,
   "metadata": {},
   "outputs": [],
   "source": [
    "for i in range(19):\n",
    "    exec(\"%s.set_index('Date',inplace=True)\" %(nwdong[i]))\n",
    "    exec(\"%s.index = %s.index.astype(int)\" %(nwdong2[i],nwdong2[i]))"
   ]
  },
  {
   "cell_type": "code",
   "execution_count": 12,
   "metadata": {},
   "outputs": [],
   "source": [
    "for i in range(19):\n",
    "    exec(\"%s = pd.concat([%s,%s],axis=1)\" %(nwdong2[i],nwdong[i],nwdong2[i]))"
   ]
  },
  {
   "cell_type": "code",
   "execution_count": 13,
   "metadata": {
    "scrolled": true
   },
   "outputs": [
    {
     "data": {
      "text/plain": [
       "Index(['20180401', '20180402', '20180403', '20180404', '20180405', '20180406',\n",
       "       '20180407', '20180408', '20180409', '20180410',\n",
       "       ...\n",
       "       '20190322', '20190323', '20190324', '20190325', '20190326', '20190327',\n",
       "       '20190328', '20190329', '20190330', '20190331'],\n",
       "      dtype='object', length=365)"
      ]
     },
     "execution_count": 13,
     "metadata": {},
     "output_type": "execute_result"
    }
   ],
   "source": [
    "공릉1동.index = 공릉1동.index.astype(str)\n",
    "공릉1동.index"
   ]
  },
  {
   "cell_type": "code",
   "execution_count": 14,
   "metadata": {},
   "outputs": [],
   "source": [
    "import datetime"
   ]
  },
  {
   "cell_type": "markdown",
   "metadata": {},
   "source": [
    "# 미세먼지 종로구"
   ]
  },
  {
   "cell_type": "code",
   "execution_count": 15,
   "metadata": {},
   "outputs": [],
   "source": [
    "jldong2 = ['가회동','교남동','무악동','부암동','사직동','삼청동','숭인1동','숭인2동','이화동','종로1234가동','종로56가동',\n",
    "           '창신1동','창신2동','창신3동',\n",
    "          '청운효자동','평창동','혜화동']\n",
    "for i in jldong2:\n",
    "    file_path = i + \".csv\"\n",
    "    exec(\"%s = pd.read_csv('../data/환경기상데이터/종로구/%s')\" %(i,file_path))\n",
    "    exec(\"%s.columns = ['date','pm10']\" %i)\n",
    "    exec(\"%s[['date']] = %s[['date']].astype(str)\" %(i,i))\n",
    "    exec(\"%s.set_index('date',inplace=True)\" %i)"
   ]
  },
  {
   "cell_type": "markdown",
   "metadata": {},
   "source": [
    "# 종로구와 유동인구 합치기"
   ]
  },
  {
   "cell_type": "code",
   "execution_count": 17,
   "metadata": {},
   "outputs": [],
   "source": [
    "for i in range(17):\n",
    "    exec(\"%s.set_index('Date',inplace=True)\" %(jldong[i]))\n",
    "    exec(\"%s.index = %s.index.astype(int)\" %(jldong2[i],jldong2[i]))"
   ]
  },
  {
   "cell_type": "code",
   "execution_count": 18,
   "metadata": {},
   "outputs": [],
   "source": [
    "for i in range(17):\n",
    "    exec(\"%s = pd.concat([%s,%s],axis=1)\" %(jldong2[i],jldong[i],jldong2[i]))"
   ]
  },
  {
   "cell_type": "code",
   "execution_count": 19,
   "metadata": {},
   "outputs": [],
   "source": [
    "# 5,6이 주말\n",
    "\n",
    "for i in range(19):\n",
    "    exec(\"%s.index = %s.index.astype(str)\" %(nwdong2[i],nwdong2[i]))\n",
    "    for n in range(365):\n",
    "        try:\n",
    "            exec(\"number=int(datetime.date(int(%s.index[n][:4]),int(%s.index[n][4:6]),int(%s.index[n][6:8])).weekday())\" %(nwdong2[i],nwdong2[i],nwdong2[i]))\n",
    "            if (number==5) or (number==6):\n",
    "                exec(\"%s.drop(%s.index[n],inplace=True)\" %(nwdong2[i],nwdong2[i]))\n",
    "        except:\n",
    "            pass\n",
    "\n",
    "for i in range(17):\n",
    "    exec(\"%s.index = %s.index.astype(str)\" %(jldong2[i],jldong2[i]))\n",
    "    for n in range(365):\n",
    "        try:\n",
    "            exec(\"number=int(datetime.date(int(%s.index[n][:4]),int(%s.index[n][4:6]),int(%s.index[n][6:8])).weekday())\" %(jldong2[i],jldong2[i],jldong2[i]))\n",
    "            if (number==5) or (number==6):\n",
    "                exec(\"%s.drop(%s.index[n],inplace=True)\" %(jldong2[i],jldong2[i]))\n",
    "        except:\n",
    "            pass"
   ]
  },
  {
   "cell_type": "markdown",
   "metadata": {},
   "source": [
    "# 상관계수 구하기"
   ]
  },
  {
   "cell_type": "code",
   "execution_count": 20,
   "metadata": {},
   "outputs": [],
   "source": [
    "# 종로구\n",
    "# 상관계수 표 각각 만들기\n",
    "for i in range(17):\n",
    "    exec(\"%s = %s.corr(method='pearson')\" %(jldong[i],jldong2[i]))"
   ]
  },
  {
   "cell_type": "code",
   "execution_count": 23,
   "metadata": {},
   "outputs": [],
   "source": [
    "jonglo_corr = pd.DataFrame(columns=jldong2)"
   ]
  },
  {
   "cell_type": "code",
   "execution_count": 24,
   "metadata": {},
   "outputs": [],
   "source": [
    "# 한 데이터프레임에 상관계수 합치기\n",
    "for i in range(17):\n",
    "    exec(\"jonglo_corr['%s']=[%s['pm10'][0]]\" %(jldong2[i],jldong[i]))"
   ]
  },
  {
   "cell_type": "code",
   "execution_count": 25,
   "metadata": {},
   "outputs": [
    {
     "data": {
      "text/html": [
       "<div>\n",
       "<style scoped>\n",
       "    .dataframe tbody tr th:only-of-type {\n",
       "        vertical-align: middle;\n",
       "    }\n",
       "\n",
       "    .dataframe tbody tr th {\n",
       "        vertical-align: top;\n",
       "    }\n",
       "\n",
       "    .dataframe thead th {\n",
       "        text-align: right;\n",
       "    }\n",
       "</style>\n",
       "<table border=\"1\" class=\"dataframe\">\n",
       "  <thead>\n",
       "    <tr style=\"text-align: right;\">\n",
       "      <th></th>\n",
       "      <th>가회동</th>\n",
       "      <th>교남동</th>\n",
       "      <th>무악동</th>\n",
       "      <th>부암동</th>\n",
       "      <th>사직동</th>\n",
       "      <th>삼청동</th>\n",
       "      <th>숭인1동</th>\n",
       "      <th>숭인2동</th>\n",
       "      <th>이화동</th>\n",
       "      <th>종로1234가동</th>\n",
       "      <th>종로56가동</th>\n",
       "      <th>창신1동</th>\n",
       "      <th>창신2동</th>\n",
       "      <th>창신3동</th>\n",
       "      <th>청운효자동</th>\n",
       "      <th>평창동</th>\n",
       "      <th>혜화동</th>\n",
       "    </tr>\n",
       "  </thead>\n",
       "  <tbody>\n",
       "    <tr>\n",
       "      <th>0</th>\n",
       "      <td>-0.041066</td>\n",
       "      <td>-0.162183</td>\n",
       "      <td>0.097532</td>\n",
       "      <td>-0.537474</td>\n",
       "      <td>-0.270163</td>\n",
       "      <td>0.210014</td>\n",
       "      <td>-0.371013</td>\n",
       "      <td>-0.14543</td>\n",
       "      <td>-0.065525</td>\n",
       "      <td>-0.12863</td>\n",
       "      <td>-0.187432</td>\n",
       "      <td>-0.146648</td>\n",
       "      <td>0.207217</td>\n",
       "      <td>0.14699</td>\n",
       "      <td>-0.228789</td>\n",
       "      <td>-0.215641</td>\n",
       "      <td>-0.429102</td>\n",
       "    </tr>\n",
       "  </tbody>\n",
       "</table>\n",
       "</div>"
      ],
      "text/plain": [
       "        가회동       교남동       무악동       부암동       사직동       삼청동      숭인1동  \\\n",
       "0 -0.041066 -0.162183  0.097532 -0.537474 -0.270163  0.210014 -0.371013   \n",
       "\n",
       "      숭인2동       이화동  종로1234가동    종로56가동      창신1동      창신2동     창신3동  \\\n",
       "0 -0.14543 -0.065525  -0.12863 -0.187432 -0.146648  0.207217  0.14699   \n",
       "\n",
       "      청운효자동       평창동       혜화동  \n",
       "0 -0.228789 -0.215641 -0.429102  "
      ]
     },
     "execution_count": 25,
     "metadata": {},
     "output_type": "execute_result"
    }
   ],
   "source": [
    "jonglo_corr"
   ]
  },
  {
   "cell_type": "code",
   "execution_count": 26,
   "metadata": {},
   "outputs": [],
   "source": [
    "# 노원구\n",
    "# 상관계수 표 각각 만들기\n",
    "for i in range(19):\n",
    "    exec(\"%s = %s.corr(method='pearson')\" %(nwdong[i],nwdong2[i]))"
   ]
  },
  {
   "cell_type": "code",
   "execution_count": 27,
   "metadata": {},
   "outputs": [],
   "source": [
    "# 한 데이터프레임에 상관계수 합치기\n",
    "nowon_corr = pd.DataFrame(columns=nwdong2)\n",
    "for i in range(19):\n",
    "    exec(\"nowon_corr['%s']=[%s['pm10'][0]]\" %(nwdong2[i],nwdong[i]))"
   ]
  },
  {
   "cell_type": "code",
   "execution_count": 28,
   "metadata": {},
   "outputs": [
    {
     "data": {
      "text/html": [
       "<div>\n",
       "<style scoped>\n",
       "    .dataframe tbody tr th:only-of-type {\n",
       "        vertical-align: middle;\n",
       "    }\n",
       "\n",
       "    .dataframe tbody tr th {\n",
       "        vertical-align: top;\n",
       "    }\n",
       "\n",
       "    .dataframe thead th {\n",
       "        text-align: right;\n",
       "    }\n",
       "</style>\n",
       "<table border=\"1\" class=\"dataframe\">\n",
       "  <thead>\n",
       "    <tr style=\"text-align: right;\">\n",
       "      <th></th>\n",
       "      <th>공릉1동</th>\n",
       "      <th>공릉2동</th>\n",
       "      <th>상계10동</th>\n",
       "      <th>상계1동</th>\n",
       "      <th>상계2동</th>\n",
       "      <th>상계34동</th>\n",
       "      <th>상계5동</th>\n",
       "      <th>상계67동</th>\n",
       "      <th>상계8동</th>\n",
       "      <th>상계9동</th>\n",
       "      <th>월계1동</th>\n",
       "      <th>월계2동</th>\n",
       "      <th>월계3동</th>\n",
       "      <th>중계1동</th>\n",
       "      <th>중계23동</th>\n",
       "      <th>중계4동</th>\n",
       "      <th>중계본동</th>\n",
       "      <th>하계1동</th>\n",
       "      <th>하계2동</th>\n",
       "    </tr>\n",
       "  </thead>\n",
       "  <tbody>\n",
       "    <tr>\n",
       "      <th>0</th>\n",
       "      <td>-0.219826</td>\n",
       "      <td>0.109592</td>\n",
       "      <td>-0.221312</td>\n",
       "      <td>-0.151253</td>\n",
       "      <td>-0.281383</td>\n",
       "      <td>-0.387641</td>\n",
       "      <td>-0.299013</td>\n",
       "      <td>-0.090964</td>\n",
       "      <td>0.018345</td>\n",
       "      <td>-0.347932</td>\n",
       "      <td>-0.150993</td>\n",
       "      <td>-0.289722</td>\n",
       "      <td>0.005481</td>\n",
       "      <td>-0.220597</td>\n",
       "      <td>-0.047657</td>\n",
       "      <td>-0.01865</td>\n",
       "      <td>0.284461</td>\n",
       "      <td>-0.114706</td>\n",
       "      <td>0.049462</td>\n",
       "    </tr>\n",
       "  </tbody>\n",
       "</table>\n",
       "</div>"
      ],
      "text/plain": [
       "       공릉1동      공릉2동     상계10동      상계1동      상계2동     상계34동      상계5동  \\\n",
       "0 -0.219826  0.109592 -0.221312 -0.151253 -0.281383 -0.387641 -0.299013   \n",
       "\n",
       "      상계67동      상계8동      상계9동      월계1동      월계2동      월계3동      중계1동  \\\n",
       "0 -0.090964  0.018345 -0.347932 -0.150993 -0.289722  0.005481 -0.220597   \n",
       "\n",
       "      중계23동     중계4동      중계본동      하계1동      하계2동  \n",
       "0 -0.047657 -0.01865  0.284461 -0.114706  0.049462  "
      ]
     },
     "execution_count": 28,
     "metadata": {},
     "output_type": "execute_result"
    }
   ],
   "source": [
    "nowon_corr"
   ]
  },
  {
   "cell_type": "code",
   "execution_count": 29,
   "metadata": {},
   "outputs": [
    {
     "data": {
      "text/plain": [
       "0   -0.124964\n",
       "dtype: float64"
      ]
     },
     "execution_count": 29,
     "metadata": {},
     "output_type": "execute_result"
    }
   ],
   "source": [
    "nowon_corr.mean(axis=1)"
   ]
  },
  {
   "cell_type": "code",
   "execution_count": 30,
   "metadata": {},
   "outputs": [
    {
     "data": {
      "text/plain": [
       "0   -0.133373\n",
       "dtype: float64"
      ]
     },
     "execution_count": 30,
     "metadata": {},
     "output_type": "execute_result"
    }
   ],
   "source": [
    "jonglo_corr.mean(axis=1)"
   ]
  },
  {
   "cell_type": "code",
   "execution_count": null,
   "metadata": {},
   "outputs": [],
   "source": []
  }
 ],
 "metadata": {
  "kernelspec": {
   "display_name": "Python 3",
   "language": "python",
   "name": "python3"
  },
  "language_info": {
   "codemirror_mode": {
    "name": "ipython",
    "version": 3
   },
   "file_extension": ".py",
   "mimetype": "text/x-python",
   "name": "python",
   "nbconvert_exporter": "python",
   "pygments_lexer": "ipython3",
   "version": "3.6.8"
  }
 },
 "nbformat": 4,
 "nbformat_minor": 2
}
