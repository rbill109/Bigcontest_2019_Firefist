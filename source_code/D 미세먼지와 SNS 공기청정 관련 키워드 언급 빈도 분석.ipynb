{
 "cells": [
  {
   "cell_type": "code",
   "execution_count": 1,
   "metadata": {},
   "outputs": [],
   "source": [
    "import matplotlib.pyplot as plt\n",
    "%matplotlib inline\n",
    "import platform\n",
    "from matplotlib import font_manager, rc\n",
    "plt.rcParams['axes.unicode_minus'] = False\n",
    "\n",
    "if platform.system() == 'Darwin':  # 맥OS \n",
    "    rc('font', family='AppleGothic')\n",
    "elif platform.system() == 'Windows':  # 윈도우\n",
    "    path = \"c:/Windows/Fonts/malgun.ttf\"\n",
    "    font_name = font_manager.FontProperties(fname=path).get_name()\n",
    "    rc('font', family=font_name)\n",
    "else:\n",
    "    print('Unknown system...  sorry~~~')"
   ]
  },
  {
   "cell_type": "code",
   "execution_count": 2,
   "metadata": {},
   "outputs": [],
   "source": [
    "import warnings\n",
    "warnings.simplefilter(\"ignore\")\n",
    "import pandas as pd\n",
    "import numpy as np\n",
    "from numpy import asarray"
   ]
  },
  {
   "cell_type": "code",
   "execution_count": 3,
   "metadata": {},
   "outputs": [
    {
     "data": {
      "application/vnd.jupyter.widget-view+json": {
       "model_id": "fa44f14ec0df410cbe3b6b1106b21601",
       "version_major": 2,
       "version_minor": 0
      },
      "text/plain": [
       "HBox(children=(IntProgress(value=0, max=8), HTML(value='')))"
      ]
     },
     "metadata": {},
     "output_type": "display_data"
    },
    {
     "name": "stdout",
     "output_type": "stream",
     "text": [
      "\n"
     ]
    }
   ],
   "source": [
    "# 데이터 전처리 (첫번째 데이터 프레임까지) 파일\n",
    "\n",
    "def read_sns(file_name) :\n",
    "    data = pd.read_excel(\"D:/DataScience/data/SNS_데이터/%s.xlsx\" %file_name)\n",
    "    year_list = []\n",
    "    month_list = []\n",
    "    day_list = []\n",
    "    date_list = []\n",
    "    for i in data.DATE :\n",
    "        year_list.append(str(i)[:4])\n",
    "    for i in data.DATE :\n",
    "        month_list.append(str(i)[4:6])\n",
    "    for i in data.DATE :\n",
    "        day_list.append(str(i)[6:8])\n",
    "    for i in data.DATE :\n",
    "        date_list.append(str(i)[:8])\n",
    "    return  pd.DataFrame({\"date\":date_list,\n",
    "                        \"section\":data.SECTION, \n",
    "                       \"year\":year_list, \n",
    "                       \"month\":month_list,\n",
    "                          \"day\":day_list,\n",
    "                       \"title\":data.TITLE, \n",
    "                       \"content\":data.CONTENT})\n",
    "\n",
    "\n",
    "from tqdm import tqdm_notebook\n",
    "for i in tqdm_notebook(range(1,9)) :\n",
    "    exec(\"SNS_%d = read_sns('SNS_%d')\" %(i,i))\n",
    "\n",
    "# for i in range(1,9) :\n",
    "#     exec(\"print(SNS_%d.head(2))\"%i)"
   ]
  },
  {
   "cell_type": "code",
   "execution_count": 5,
   "metadata": {},
   "outputs": [],
   "source": [
    "sns = pd.concat([SNS_1,SNS_2,SNS_3,SNS_4,SNS_5,SNS_6,SNS_7,SNS_8],ignore_index=True)\n",
    "sns.content = sns.content.astype(str)"
   ]
  },
  {
   "cell_type": "code",
   "execution_count": 6,
   "metadata": {},
   "outputs": [],
   "source": [
    "apr = sns[sns['month']=='04']\n",
    "may= sns[sns['month']=='05']\n",
    "jun= sns[sns['month']=='06']\n",
    "july= sns[sns['month']=='07']\n",
    "aug= sns[sns['month']=='08']\n",
    "sep= sns[sns['month']=='09']\n",
    "octo= sns[sns['month']=='10']\n",
    "nov = sns[sns['month']=='11']\n",
    "dec = sns[sns['month']=='12']\n",
    "jan = sns[sns['month']=='01']\n",
    "feb = sns[sns['month']=='02']\n",
    "mar = sns[sns['month']=='03']"
   ]
  },
  {
   "cell_type": "code",
   "execution_count": 47,
   "metadata": {},
   "outputs": [
    {
     "data": {
      "text/html": [
       "<div>\n",
       "<style scoped>\n",
       "    .dataframe tbody tr th:only-of-type {\n",
       "        vertical-align: middle;\n",
       "    }\n",
       "\n",
       "    .dataframe tbody tr th {\n",
       "        vertical-align: top;\n",
       "    }\n",
       "\n",
       "    .dataframe thead th {\n",
       "        text-align: right;\n",
       "    }\n",
       "</style>\n",
       "<table border=\"1\" class=\"dataframe\">\n",
       "  <thead>\n",
       "    <tr style=\"text-align: right;\">\n",
       "      <th></th>\n",
       "      <th>Date</th>\n",
       "      <th>pm10</th>\n",
       "    </tr>\n",
       "  </thead>\n",
       "  <tbody>\n",
       "    <tr>\n",
       "      <th>0</th>\n",
       "      <td>201804</td>\n",
       "      <td>46.685984</td>\n",
       "    </tr>\n",
       "    <tr>\n",
       "      <th>1</th>\n",
       "      <td>201805</td>\n",
       "      <td>45.424308</td>\n",
       "    </tr>\n",
       "    <tr>\n",
       "      <th>2</th>\n",
       "      <td>201806</td>\n",
       "      <td>41.373570</td>\n",
       "    </tr>\n",
       "    <tr>\n",
       "      <th>3</th>\n",
       "      <td>201807</td>\n",
       "      <td>34.654231</td>\n",
       "    </tr>\n",
       "    <tr>\n",
       "      <th>4</th>\n",
       "      <td>201808</td>\n",
       "      <td>37.530600</td>\n",
       "    </tr>\n",
       "    <tr>\n",
       "      <th>5</th>\n",
       "      <td>201809</td>\n",
       "      <td>34.126963</td>\n",
       "    </tr>\n",
       "    <tr>\n",
       "      <th>6</th>\n",
       "      <td>201810</td>\n",
       "      <td>38.826354</td>\n",
       "    </tr>\n",
       "    <tr>\n",
       "      <th>7</th>\n",
       "      <td>201811</td>\n",
       "      <td>55.999444</td>\n",
       "    </tr>\n",
       "    <tr>\n",
       "      <th>8</th>\n",
       "      <td>201812</td>\n",
       "      <td>59.483938</td>\n",
       "    </tr>\n",
       "    <tr>\n",
       "      <th>9</th>\n",
       "      <td>201901</td>\n",
       "      <td>72.169308</td>\n",
       "    </tr>\n",
       "    <tr>\n",
       "      <th>10</th>\n",
       "      <td>201902</td>\n",
       "      <td>68.277820</td>\n",
       "    </tr>\n",
       "    <tr>\n",
       "      <th>11</th>\n",
       "      <td>201903</td>\n",
       "      <td>59.584523</td>\n",
       "    </tr>\n",
       "  </tbody>\n",
       "</table>\n",
       "</div>"
      ],
      "text/plain": [
       "      Date       pm10\n",
       "0   201804  46.685984\n",
       "1   201805  45.424308\n",
       "2   201806  41.373570\n",
       "3   201807  34.654231\n",
       "4   201808  37.530600\n",
       "5   201809  34.126963\n",
       "6   201810  38.826354\n",
       "7   201811  55.999444\n",
       "8   201812  59.483938\n",
       "9   201901  72.169308\n",
       "10  201902  68.277820\n",
       "11  201903  59.584523"
      ]
     },
     "execution_count": 47,
     "metadata": {},
     "output_type": "execute_result"
    }
   ],
   "source": [
    "# 미세먼지 데이터 업로드\n",
    "n_dust_month = pd.read_csv(\"D:/DataScience/data/미세먼지/n_dust_month.csv\")\n",
    "n_dust_month = n_dust_month.rename(columns={\"pm10\":\"pm10_n\"})\n",
    "j_dust_month = pd.read_csv(\"D:/DataScience/data/미세먼지/j_dust_month.csv\")\n",
    "j_dust_month = j_dust_month.rename(columns={\"pm10\":\"pm10_j\"})\n",
    "\n",
    "# 월별 평균 데이터 구하기\n",
    "n_dust_month.set_index(\"Date\",inplace=True)\n",
    "j_dust_month.set_index(\"Date\",inplace=True)\n",
    "dust_month = pd.concat([n_dust_month,j_dust_month],axis=1)\n",
    "dust_month[\"pm10\"] = (dust_month[\"pm10_n\"]+dust_month[\"pm10_j\"])/2\n",
    "del dust_month[\"pm10_n\"]\n",
    "del dust_month[\"pm10_j\"]\n",
    "dust_month.reset_index(inplace=True)\n",
    "dust_month"
   ]
  },
  {
   "cell_type": "code",
   "execution_count": 54,
   "metadata": {},
   "outputs": [
    {
     "data": {
      "text/plain": [
       "['201804',\n",
       " '201805',\n",
       " '201806',\n",
       " '201807',\n",
       " '201808',\n",
       " '201809',\n",
       " '201810',\n",
       " '201811',\n",
       " '201812',\n",
       " '201901',\n",
       " '201902',\n",
       " '201903']"
      ]
     },
     "execution_count": 54,
     "metadata": {},
     "output_type": "execute_result"
    }
   ],
   "source": [
    "list(dust_month[\"pm10\"])\n",
    "dust_month[str(i) for i in list(dust_month[\"Date\"])]"
   ]
  },
  {
   "cell_type": "code",
   "execution_count": 84,
   "metadata": {},
   "outputs": [],
   "source": [
    "#이거 그래프 그릴때마다 lis=[] 다시 해줘야돼... 이걸 함수에 집어넣는 법을 모르겠어\n",
    "import re\n",
    "lis=[]\n",
    "def count_func(word,month):\n",
    "    count = 0\n",
    "    for i in range(len(month)):\n",
    "        count+=len(re.findall(word,month['content'].iloc[i]))\n",
    "    lis.append(count)\n",
    "    \n",
    "def all_month(word):\n",
    "    li = [apr,may,jun,july,aug,sep,octo,nov,dec,jan,feb,mar]\n",
    "    for a in li:\n",
    "        count_func(word,a)"
   ]
  },
  {
   "cell_type": "code",
   "execution_count": 85,
   "metadata": {},
   "outputs": [],
   "source": [
    "def graph_func(word):\n",
    "    dust_list = list(dust_month[\"pm10\"])\n",
    "    date_list = [str(i) for i in list(dust_month[\"Date\"])]\n",
    "    \n",
    "    all_month(word)\n",
    "    plt.plot(date_list,asarray(dust_list)*400,'wheat', label = '미세먼지')\n",
    "    plt.plot(date_list,lis,'chocolate', label = word)\n",
    "    plt.rcParams[\"figure.figsize\"] = (10,6)\n",
    "    plt.rcParams['lines.linewidth'] = 4\n",
    "    plt.rcParams['axes.grid']=True\n",
    "    plt.xlabel('날짜')\n",
    "    plt.title('미세먼지와 %s빈도수' %word)\n",
    "    plt.legend(loc='upper left', frameon=False)\n",
    "    plt.savefig(\"../data/마스크.png\", dpi=100)\n",
    "    plt.show()"
   ]
  },
  {
   "cell_type": "code",
   "execution_count": 86,
   "metadata": {},
   "outputs": [
    {
     "data": {
      "image/png": "[encoded data removed]",
      "text/plain": [
       "<Figure size 720x432 with 1 Axes>"
      ]
     },
     "metadata": {
      "needs_background": "light"
     },
     "output_type": "display_data"
    }
   ],
   "source": [
    "graph_func('마스크')"
   ]
  },
  {
   "cell_type": "code",
   "execution_count": null,
   "metadata": {},
   "outputs": [],
   "source": []
  }
 ],
 "metadata": {
  "kernelspec": {
   "display_name": "Python 3",
   "language": "python",
   "name": "python3"
  },
  "language_info": {
   "codemirror_mode": {
    "name": "ipython",
    "version": 3
   },
   "file_extension": ".py",
   "mimetype": "text/x-python",
   "name": "python",
   "nbconvert_exporter": "python",
   "pygments_lexer": "ipython3",
   "version": "3.6.10"
  }
 },
 "nbformat": 4,
 "nbformat_minor": 4
}
