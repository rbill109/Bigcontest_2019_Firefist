{
 "cells": [
  {
   "cell_type": "markdown",
   "metadata": {},
   "source": [
    "# pm10/pm25 데이터 상관성 파악하기"
   ]
  },
  {
   "cell_type": "code",
   "execution_count": null,
   "metadata": {},
   "outputs": [],
   "source": [
    "import pandas as pd"
   ]
  },
  {
   "cell_type": "code",
   "execution_count": 21,
   "metadata": {},
   "outputs": [],
   "source": [
    "# pm 10 데이터 추출하여 가공하는 함수 생성\n",
    "\n",
    "def dust_mean_10(raw) :\n",
    "    date_list = []\n",
    "    hour_list = []\n",
    "    min_list = []\n",
    "    for i in raw.tm :\n",
    "        date_list.append(str(i)[:8])\n",
    "    for i in raw.tm :\n",
    "        hour_list.append(str(i)[8:10])\n",
    "    for i in raw.tm :\n",
    "        min_list.append(str(i)[10:])\n",
    "\n",
    "    # 리스트 세개를 합쳐 새로운 dataframe 생성\n",
    "    split_df = pd.DataFrame({\"date\":date_list,\n",
    "                            \"hour\":hour_list,\n",
    "                            \"min\":min_list})\n",
    "\n",
    "    # pm10열 가져와서 병합\n",
    "    raw = raw.loc[:,'pm10']\n",
    "    result = pd.concat([split_df,raw], axis=1)\n",
    "    \n",
    "    # 결측치(-999, -9999) 제거\n",
    "    result = result.loc[(result.pm10!=-999)&(result.pm10!=-9999),:]\n",
    "    \n",
    "    # 이상치 제거\n",
    "    df = result['pm10'].describe()\n",
    "    top_out = df[-2]+(df[-2]-df[-3])*1.5\n",
    "    down_out = df[4]-(df[-2]-df[-3])*1.5\n",
    "    result = result.loc[(result.pm10>=down_out)&(result.pm10<=top_out),:]\n",
    "\n",
    "    grouped = result.groupby(result.date)\n",
    "    result_date_mean = grouped.mean()\n",
    "    \n",
    "    return result_date_mean"
   ]
  },
  {
   "cell_type": "code",
   "execution_count": 22,
   "metadata": {},
   "outputs": [],
   "source": [
    "# pm 25 데이터 추출하여 가공하는 함수 생성\n",
    "\n",
    "def dust_mean_25(raw) :\n",
    "    date_list = []\n",
    "    hour_list = []\n",
    "    min_list = []\n",
    "    for i in raw.tm :\n",
    "        date_list.append(str(i)[:8])\n",
    "    for i in raw.tm :\n",
    "        hour_list.append(str(i)[8:10])\n",
    "    for i in raw.tm :\n",
    "        min_list.append(str(i)[10:])\n",
    "\n",
    "    # 리스트 세개를 합쳐 새로운 dataframe 생성\n",
    "    split_df = pd.DataFrame({\"date\":date_list,\n",
    "                            \"hour\":hour_list,\n",
    "                            \"min\":min_list})\n",
    "\n",
    "    # pm 25 열 가져와서 병합\n",
    "    raw = raw.loc[:,'pm25']\n",
    "    result = pd.concat([split_df,raw], axis=1)\n",
    "    \n",
    "    # 결측치(-999, -9999) 제거\n",
    "    result = result.loc[(result.pm25!=-999)&(result.pm25!=-9999),:]\n",
    "    \n",
    "    # 이상치 제거\n",
    "    df = result['pm25'].describe()\n",
    "    top_out = df[-2]+(df[-2]-df[-3])*1.5\n",
    "    down_out = df[4]-(df[-2]-df[-3])*1.5\n",
    "    result = result.loc[(result.pm25>=down_out)&(result.pm25<=top_out),:]\n",
    "\n",
    "    grouped = result.groupby(result.date)\n",
    "    result_date_mean = grouped.mean()\n",
    "    \n",
    "    return result_date_mean"
   ]
  },
  {
   "cell_type": "code",
   "execution_count": 3,
   "metadata": {},
   "outputs": [],
   "source": [
    "# 노원구와 종로구 raw 데이터 파일 경로 리스트 생성\n",
    "from os import listdir\n",
    "from os.path import isfile, join\n",
    "\n",
    "files_n = [f for f in listdir('D:/DataScience/data/미세먼지/노원구_원본/') if isfile(join('D:/DataScience/data/미세먼지/노원구_원본/', f))]\n",
    "files_j = [f for f in listdir('D:/DataScience/data/미세먼지/종로구_원본/') if isfile(join('D:/DataScience/data/미세먼지/종로구_원본//', f))]\n",
    "        \n",
    "file_path_list_n = []\n",
    "for file in files_n :\n",
    "    path = 'D:/DataScience/data/미세먼지/노원구_원본/'\n",
    "    file_path_list_n.append(path+file)\n",
    "\n",
    "file_path_list_j = []\n",
    "for file in files_j :\n",
    "    path = 'D:/DataScience/data/미세먼지/종로구_원본/'\n",
    "    file_path_list_j.append(path+file)"
   ]
  },
  {
   "cell_type": "code",
   "execution_count": 4,
   "metadata": {},
   "outputs": [
    {
     "data": {
      "text/plain": [
       "['D:/DataScience/data/미세먼지/노원구_원본/공릉2동172.csv',\n",
       " 'D:/DataScience/data/미세먼지/노원구_원본/상계10동.csv',\n",
       " 'D:/DataScience/data/미세먼지/노원구_원본/상계1동.csv',\n",
       " 'D:/DataScience/data/미세먼지/노원구_원본/상계2동332.csv',\n",
       " 'D:/DataScience/data/미세먼지/노원구_원본/상계2동397.csv',\n",
       " 'D:/DataScience/data/미세먼지/노원구_원본/상계34동.csv',\n",
       " 'D:/DataScience/data/미세먼지/노원구_원본/상계5동156.csv',\n",
       " 'D:/DataScience/data/미세먼지/노원구_원본/상계5동456.csv',\n",
       " 'D:/DataScience/data/미세먼지/노원구_원본/상계67동734.csv',\n",
       " 'D:/DataScience/data/미세먼지/노원구_원본/상계67동740.csv',\n",
       " 'D:/DataScience/data/미세먼지/노원구_원본/상계67동767.csv',\n",
       " 'D:/DataScience/data/미세먼지/노원구_원본/월계1동.csv',\n",
       " 'D:/DataScience/data/미세먼지/노원구_원본/월계3동.csv',\n",
       " 'D:/DataScience/data/미세먼지/노원구_원본/중계23동.csv',\n",
       " 'D:/DataScience/data/미세먼지/노원구_원본/중계본동.csv',\n",
       " 'D:/DataScience/data/미세먼지/노원구_원본/하계1동251.csv',\n",
       " 'D:/DataScience/data/미세먼지/노원구_원본/하계1동280.csv']"
      ]
     },
     "execution_count": 4,
     "metadata": {},
     "output_type": "execute_result"
    }
   ],
   "source": [
    "file_path_list_n"
   ]
  },
  {
   "cell_type": "code",
   "execution_count": 5,
   "metadata": {},
   "outputs": [
    {
     "data": {
      "text/plain": [
       "['D:/DataScience/data/미세먼지/종로구_원본/교남동.csv',\n",
       " 'D:/DataScience/data/미세먼지/종로구_원본/명동.csv',\n",
       " 'D:/DataScience/data/미세먼지/종로구_원본/숭인2동.csv',\n",
       " 'D:/DataScience/data/미세먼지/종로구_원본/창신1동170.csv',\n",
       " 'D:/DataScience/data/미세먼지/종로구_원본/평창동.csv',\n",
       " 'D:/DataScience/data/미세먼지/종로구_원본/혜화동1.csv',\n",
       " 'D:/DataScience/data/미세먼지/종로구_원본/혜화동72.csv']"
      ]
     },
     "execution_count": 5,
     "metadata": {},
     "output_type": "execute_result"
    }
   ],
   "source": [
    "file_path_list_j"
   ]
  },
  {
   "cell_type": "code",
   "execution_count": 7,
   "metadata": {},
   "outputs": [
    {
     "data": {
      "application/vnd.jupyter.widget-view+json": {
       "model_id": "16feee1469e24082997250f729dcb040",
       "version_major": 2,
       "version_minor": 0
      },
      "text/plain": [
       "HBox(children=(IntProgress(value=0, max=7), HTML(value='')))"
      ]
     },
     "metadata": {},
     "output_type": "display_data"
    },
    {
     "name": "stdout",
     "output_type": "stream",
     "text": [
      "\n"
     ]
    }
   ],
   "source": [
    "# 종로구 데이터 업로드(변수저장)\n",
    "from tqdm import tqdm_notebook\n",
    "for file in tqdm_notebook(file_path_list_j) :\n",
    "    exec(\"%s = pd.read_csv('%s')\" %(file.split(\"/\")[-1].split(\".\")[0],file))"
   ]
  },
  {
   "cell_type": "code",
   "execution_count": 8,
   "metadata": {},
   "outputs": [
    {
     "data": {
      "application/vnd.jupyter.widget-view+json": {
       "model_id": "e5413287cb544486bbe42e5e4c4dfccd",
       "version_major": 2,
       "version_minor": 0
      },
      "text/plain": [
       "HBox(children=(IntProgress(value=0, max=17), HTML(value='')))"
      ]
     },
     "metadata": {},
     "output_type": "display_data"
    },
    {
     "name": "stdout",
     "output_type": "stream",
     "text": [
      "\n"
     ]
    }
   ],
   "source": [
    "# 노원구 데이터 업로드(변수저장)\n",
    "from tqdm import tqdm_notebook\n",
    "for file in tqdm_notebook(file_path_list_n) :\n",
    "    exec(\"%s = pd.read_csv('%s')\" %(file.split(\"/\")[-1].split(\".\")[0],file))"
   ]
  },
  {
   "cell_type": "code",
   "execution_count": 23,
   "metadata": {},
   "outputs": [
    {
     "data": {
      "application/vnd.jupyter.widget-view+json": {
       "model_id": "e536497a75ec4d08be9543d19ecded38",
       "version_major": 2,
       "version_minor": 0
      },
      "text/plain": [
       "HBox(children=(IntProgress(value=0, max=17), HTML(value='')))"
      ]
     },
     "metadata": {},
     "output_type": "display_data"
    },
    {
     "name": "stdout",
     "output_type": "stream",
     "text": [
      "\n"
     ]
    }
   ],
   "source": [
    "# 변수저장된 노원구 데이터 pm10과 pm25 데이터 가공 함수 적용\n",
    "from tqdm import tqdm_notebook\n",
    "for file in tqdm_notebook(file_path_list_n) :\n",
    "    exec(\"%s_10 = dust_mean_10(%s)\" %(file.split(\"/\")[-1].split(\".\")[0],file.split(\"/\")[-1].split(\".\")[0]))\n",
    "    exec(\"%s_25 = dust_mean_25(%s)\" %(file.split(\"/\")[-1].split(\".\")[0],file.split(\"/\")[-1].split(\".\")[0]))\n",
    "    "
   ]
  },
  {
   "cell_type": "code",
   "execution_count": 24,
   "metadata": {},
   "outputs": [
    {
     "data": {
      "application/vnd.jupyter.widget-view+json": {
       "model_id": "2e7e362529fc4fc49698f3f98c5d793c",
       "version_major": 2,
       "version_minor": 0
      },
      "text/plain": [
       "HBox(children=(IntProgress(value=0, max=7), HTML(value='')))"
      ]
     },
     "metadata": {},
     "output_type": "display_data"
    },
    {
     "name": "stdout",
     "output_type": "stream",
     "text": [
      "\n"
     ]
    }
   ],
   "source": [
    "# 변수저장된 종로구 데이터 pm10과 pm25 데이터 가공 함수 적용\n",
    "from tqdm import tqdm_notebook\n",
    "for file in tqdm_notebook(file_path_list_j) :\n",
    "    exec(\"%s_10 = dust_mean_10(%s)\" %(file.split(\"/\")[-1].split(\".\")[0],file.split(\"/\")[-1].split(\".\")[0]))\n",
    "    exec(\"%s_25 = dust_mean_25(%s)\" %(file.split(\"/\")[-1].split(\".\")[0],file.split(\"/\")[-1].split(\".\")[0]))\n",
    "    "
   ]
  },
  {
   "cell_type": "code",
   "execution_count": 32,
   "metadata": {},
   "outputs": [
    {
     "data": {
      "text/html": [
       "<div>\n",
       "<style scoped>\n",
       "    .dataframe tbody tr th:only-of-type {\n",
       "        vertical-align: middle;\n",
       "    }\n",
       "\n",
       "    .dataframe tbody tr th {\n",
       "        vertical-align: top;\n",
       "    }\n",
       "\n",
       "    .dataframe thead th {\n",
       "        text-align: right;\n",
       "    }\n",
       "</style>\n",
       "<table border=\"1\" class=\"dataframe\">\n",
       "  <thead>\n",
       "    <tr style=\"text-align: right;\">\n",
       "      <th></th>\n",
       "      <th>pm10</th>\n",
       "    </tr>\n",
       "    <tr>\n",
       "      <th>date</th>\n",
       "      <th></th>\n",
       "    </tr>\n",
       "  </thead>\n",
       "  <tbody>\n",
       "    <tr>\n",
       "      <th>20180401</th>\n",
       "      <td>67.465830</td>\n",
       "    </tr>\n",
       "    <tr>\n",
       "      <th>20180402</th>\n",
       "      <td>66.638579</td>\n",
       "    </tr>\n",
       "    <tr>\n",
       "      <th>20180403</th>\n",
       "      <td>64.696653</td>\n",
       "    </tr>\n",
       "    <tr>\n",
       "      <th>20180404</th>\n",
       "      <td>12.637955</td>\n",
       "    </tr>\n",
       "    <tr>\n",
       "      <th>20180405</th>\n",
       "      <td>9.552301</td>\n",
       "    </tr>\n",
       "  </tbody>\n",
       "</table>\n",
       "</div>"
      ],
      "text/plain": [
       "               pm10\n",
       "date               \n",
       "20180401  67.465830\n",
       "20180402  66.638579\n",
       "20180403  64.696653\n",
       "20180404  12.637955\n",
       "20180405   9.552301"
      ]
     },
     "execution_count": 32,
     "metadata": {},
     "output_type": "execute_result"
    }
   ],
   "source": [
    "# pm10 데이터 확인\n",
    "교남동_10.head()"
   ]
  },
  {
   "cell_type": "code",
   "execution_count": 33,
   "metadata": {},
   "outputs": [
    {
     "data": {
      "text/html": [
       "<div>\n",
       "<style scoped>\n",
       "    .dataframe tbody tr th:only-of-type {\n",
       "        vertical-align: middle;\n",
       "    }\n",
       "\n",
       "    .dataframe tbody tr th {\n",
       "        vertical-align: top;\n",
       "    }\n",
       "\n",
       "    .dataframe thead th {\n",
       "        text-align: right;\n",
       "    }\n",
       "</style>\n",
       "<table border=\"1\" class=\"dataframe\">\n",
       "  <thead>\n",
       "    <tr style=\"text-align: right;\">\n",
       "      <th></th>\n",
       "      <th>pm25</th>\n",
       "    </tr>\n",
       "    <tr>\n",
       "      <th>date</th>\n",
       "      <th></th>\n",
       "    </tr>\n",
       "  </thead>\n",
       "  <tbody>\n",
       "    <tr>\n",
       "      <th>20180401</th>\n",
       "      <td>32.028591</td>\n",
       "    </tr>\n",
       "    <tr>\n",
       "      <th>20180402</th>\n",
       "      <td>25.959028</td>\n",
       "    </tr>\n",
       "    <tr>\n",
       "      <th>20180403</th>\n",
       "      <td>21.773611</td>\n",
       "    </tr>\n",
       "    <tr>\n",
       "      <th>20180404</th>\n",
       "      <td>7.268908</td>\n",
       "    </tr>\n",
       "    <tr>\n",
       "      <th>20180405</th>\n",
       "      <td>5.541841</td>\n",
       "    </tr>\n",
       "  </tbody>\n",
       "</table>\n",
       "</div>"
      ],
      "text/plain": [
       "               pm25\n",
       "date               \n",
       "20180401  32.028591\n",
       "20180402  25.959028\n",
       "20180403  21.773611\n",
       "20180404   7.268908\n",
       "20180405   5.541841"
      ]
     },
     "execution_count": 33,
     "metadata": {},
     "output_type": "execute_result"
    }
   ],
   "source": [
    "# pm25 데이터 확인\n",
    "교남동_25.head()"
   ]
  },
  {
   "cell_type": "code",
   "execution_count": 78,
   "metadata": {},
   "outputs": [
    {
     "name": "stderr",
     "output_type": "stream",
     "text": [
      "D:\\Anaconda\\lib\\site-packages\\ipykernel_launcher.py:2: FutureWarning: Sorting because non-concatenation axis is not aligned. A future version\n",
      "of pandas will change to not sort by default.\n",
      "\n",
      "To accept the future behavior, pass 'sort=False'.\n",
      "\n",
      "To retain the current behavior and silence the warning, pass 'sort=True'.\n",
      "\n",
      "  \n"
     ]
    },
    {
     "data": {
      "text/plain": [
       "교남동    0.902209\n",
       "Name: 0, dtype: float64"
      ]
     },
     "execution_count": 78,
     "metadata": {},
     "output_type": "execute_result"
    }
   ],
   "source": [
    "# 각각의 데이터 합치는 예시\n",
    "교남동 = pd.concat([교남동_10,교남동_25],axis=1)\n",
    "type(교남동.corr().loc[\"pm10\",\"pm25\"])\n",
    "교남동_result = pd.DataFrame()\n",
    "교남동_result[\"교남동\"] = [교남동.corr().loc[\"pm10\",\"pm25\"],교남동.corr().loc[\"pm10\",\"pm25\"]]\n",
    "교남동_result.iloc[0,:]"
   ]
  },
  {
   "cell_type": "code",
   "execution_count": 69,
   "metadata": {},
   "outputs": [
    {
     "data": {
      "application/vnd.jupyter.widget-view+json": {
       "model_id": "a6ecac437b3f40f5aeaab8d405367f9d",
       "version_major": 2,
       "version_minor": 0
      },
      "text/plain": [
       "HBox(children=(IntProgress(value=0, max=17), HTML(value='')))"
      ]
     },
     "metadata": {},
     "output_type": "display_data"
    },
    {
     "name": "stderr",
     "output_type": "stream",
     "text": [
      "D:\\Anaconda\\lib\\site-packages\\ipykernel_launcher.py:1: FutureWarning: Sorting because non-concatenation axis is not aligned. A future version\n",
      "of pandas will change to not sort by default.\n",
      "\n",
      "To accept the future behavior, pass 'sort=False'.\n",
      "\n",
      "To retain the current behavior and silence the warning, pass 'sort=True'.\n",
      "\n",
      "  \"\"\"Entry point for launching an IPython kernel.\n"
     ]
    },
    {
     "name": "stdout",
     "output_type": "stream",
     "text": [
      "\n"
     ]
    },
    {
     "data": {
      "application/vnd.jupyter.widget-view+json": {
       "model_id": "534679c23e6647aa937069f8f07c726e",
       "version_major": 2,
       "version_minor": 0
      },
      "text/plain": [
       "HBox(children=(IntProgress(value=0, max=7), HTML(value='')))"
      ]
     },
     "metadata": {},
     "output_type": "display_data"
    },
    {
     "name": "stdout",
     "output_type": "stream",
     "text": [
      "\n"
     ]
    }
   ],
   "source": [
    "# 위의 내용 참고하여 전체 모두 구하는 데이터 만들기\n",
    "corr_df = pd.DataFrame()\n",
    "for file in tqdm_notebook(file_path_list_n) :\n",
    "    name = file.split(\"/\")[-1].split(\".\")[0]\n",
    "    exec('%s = pd.concat([%s_10,%s_25],axis=1)' %(name,name,name))\n",
    "    exec('%s_result = pd.DataFrame()' %name)\n",
    "    exec('%s_result[\"%s\"]=[%s.corr().loc[\"pm10\",\"pm25\"],0]' %(name,name,name))\n",
    "    exec('corr_df = pd.concat([corr_df,%s_result],axis=1)' %name)\n",
    "\n",
    "# 위의 내용 참고하여 전체 모두 구하는 데이터 만들기\n",
    "corr_df_2 = pd.DataFrame()\n",
    "for file in tqdm_notebook(file_path_list_j) :\n",
    "    name = file.split(\"/\")[-1].split(\".\")[0]\n",
    "    exec('%s = pd.concat([%s_10,%s_25],axis=1)' %(name,name,name))\n",
    "    exec('%s_result = pd.DataFrame()' %name)\n",
    "    exec('%s_result[\"%s\"]=[%s.corr().loc[\"pm10\",\"pm25\"],0]' %(name,name,name))\n",
    "    exec('corr_df_2 = pd.concat([corr_df_2,%s_result],axis=1)' %name)"
   ]
  },
  {
   "cell_type": "code",
   "execution_count": 75,
   "metadata": {},
   "outputs": [
    {
     "data": {
      "text/plain": [
       "공릉2동172     0.913725\n",
       "상계10동       0.909963\n",
       "상계1동        0.893681\n",
       "상계2동332     0.923806\n",
       "상계2동397     0.915845\n",
       "상계34동       0.938319\n",
       "상계5동156     0.894596\n",
       "상계5동456     0.917454\n",
       "상계67동734    0.900994\n",
       "상계67동740    0.903835\n",
       "상계67동767    0.926091\n",
       "월계1동        0.921774\n",
       "월계3동        0.902237\n",
       "중계23동       0.923896\n",
       "중계본동        0.915543\n",
       "하계1동251     0.917893\n",
       "하계1동280     0.855487\n",
       "Name: 0, dtype: float64"
      ]
     },
     "execution_count": 75,
     "metadata": {},
     "output_type": "execute_result"
    }
   ],
   "source": [
    "# 노원구 상관 계수\n",
    "corr_df.iloc[0,:]"
   ]
  },
  {
   "cell_type": "code",
   "execution_count": 74,
   "metadata": {},
   "outputs": [
    {
     "data": {
      "text/plain": [
       "교남동        0.902209\n",
       "명동         0.904946\n",
       "숭인2동       0.907810\n",
       "창신1동170    0.873851\n",
       "평창동        0.902455\n",
       "혜화동1       0.906246\n",
       "혜화동72      0.893715\n",
       "Name: 0, dtype: float64"
      ]
     },
     "execution_count": 74,
     "metadata": {},
     "output_type": "execute_result"
    }
   ],
   "source": [
    "# 종로구 상관계수\n",
    "corr_df_2.iloc[0,:]"
   ]
  }
 ],
 "metadata": {
  "kernelspec": {
   "display_name": "Python 3",
   "language": "python",
   "name": "python3"
  },
  "language_info": {
   "codemirror_mode": {
    "name": "ipython",
    "version": 3
   },
   "file_extension": ".py",
   "mimetype": "text/x-python",
   "name": "python",
   "nbconvert_exporter": "python",
   "pygments_lexer": "ipython3",
   "version": "3.6.8"
  }
 },
 "nbformat": 4,
 "nbformat_minor": 2
}
