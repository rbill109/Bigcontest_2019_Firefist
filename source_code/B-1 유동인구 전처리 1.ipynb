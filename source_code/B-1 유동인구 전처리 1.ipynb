{
 "cells": [
  {
   "cell_type": "code",
   "execution_count": 3,
   "metadata": {},
   "outputs": [],
   "source": [
    "import pandas as pd\n",
    "import csv"
   ]
  },
  {
   "cell_type": "code",
   "execution_count": 4,
   "metadata": {},
   "outputs": [],
   "source": [
    "def flow_df(file):\n",
    "    with open(file, 'r', encoding='utf-8') as f:\n",
    "        rdr = csv.reader(f, delimiter='|')\n",
    "        df = []\n",
    "        for i in rdr:\n",
    "            df.append(i)\n",
    "    try:\n",
    "        df = [int(i) for i in df]\n",
    "    except:\n",
    "        df = [i for i in df]\n",
    "    \n",
    "    df = pd.DataFrame(df)\n",
    "    \n",
    "    del df[0]\n",
    "    del df[2]\n",
    "    df = df.drop(0) \n",
    "    \n",
    "    # 문자열 -> 숫자\n",
    "    for i in range(0,df.shape[1]):\n",
    "        try:\n",
    "            df.iloc[:,i] = pd.to_numeric(df.iloc[:,i])\n",
    "        except:\n",
    "            next\n",
    "    # 열 이름 변경\n",
    "    df.columns = ['Date','Dong','M_0004','M_0509','M_1014','M_1519','M_2024','M_2529','M_3034','M_3539','M_4044',\n",
    "           'M_4549','M_5054','M_5559','M_6064','M_6569','M_7099','F_0004','F_0509','F_1014','F_1519','F_2024',\n",
    "           'F_2529','F_3034','F_3539','F_4044','F_4549','F_5054','F_5559','F_6064','F_6569','F_7099']\n",
    "\n",
    "    # 연령대 필드 정리\n",
    "    df['M_0004'] = df.loc[:,'M_0004':'M_2024'].sum(axis=1)\n",
    "    df['M_6569'] = df.loc[:,'M_6569':'M_7099'].sum(axis=1)\n",
    "    df['F_0004'] = df.loc[:,'F_0004':'F_2024'].sum(axis=1)\n",
    "    df['F_6569'] = df.loc[:,'F_6569':'F_7099'].sum(axis=1)\n",
    "\n",
    "    df.drop(df.columns[[range(3,7)]], axis=1, inplace = True)\n",
    "    df.drop(df.columns[[range(14,18)]], axis=1, inplace = True)\n",
    "    df.drop(df.columns[[12,23]], axis=1, inplace = True)\n",
    "\n",
    "    df = df.rename(columns = {'M_0004': 'M_0024'})\n",
    "    df = df.rename(columns = {'F_0004': 'F_0024'})\n",
    "    df = df.rename(columns = {'M_6569': 'M_6599'})\n",
    "    df = df.rename(columns = {'F_6569': 'F_6599'})\n",
    "\n",
    "    return df"
   ]
  },
  {
   "cell_type": "code",
   "execution_count": 5,
   "metadata": {
    "scrolled": true
   },
   "outputs": [
    {
     "name": "stderr",
     "output_type": "stream",
     "text": [
      "C:\\Users\\yumincho\\Anaconda3\\lib\\site-packages\\pandas\\core\\indexes\\base.py:3968: FutureWarning: Using a non-tuple sequence for multidimensional indexing is deprecated; use `arr[tuple(seq)]` instead of `arr[seq]`. In the future this will be interpreted as an array index, `arr[np.array(seq)]`, which will result either in an error or a different result.\n",
      "  result = getitem(key)\n"
     ]
    },
    {
     "data": {
      "text/plain": [
       "31"
      ]
     },
     "execution_count": 5,
     "metadata": {},
     "output_type": "execute_result"
    }
   ],
   "source": [
    "len(flow_df(\"../data/유동인구데이터/성연령유동/노원_종로_FLOW_AGE_201805.csv\").Date.unique())"
   ]
  },
  {
   "cell_type": "code",
   "execution_count": 6,
   "metadata": {},
   "outputs": [
    {
     "data": {
      "text/plain": [
       "array(['청운효자동', '사직동', '삼청동', '부암동', '평창동', '무악동', '교남동', '가회동',\n",
       "       '종로1.2.3.4가동', '종로5.6가동', '이화동', '혜화동', '창신1동', '창신2동', '창신3동',\n",
       "       '숭인1동', '숭인2동', '월계1동', '월계2동', '월계3동', '공릉1동', '공릉2동', '하계1동',\n",
       "       '하계2동', '중계본동', '중계1동', '중계4동', '중계2.3동', '상계1동', '상계2동', '상계3.4동',\n",
       "       '상계5동', '상계6.7동', '상계8동', '상계9동', '상계10동'], dtype=object)"
      ]
     },
     "execution_count": 6,
     "metadata": {},
     "output_type": "execute_result"
    }
   ],
   "source": [
    "flow_df(\"../data/유동인구데이터/성연령유동/노원_종로_FLOW_AGE_201805.csv\").Dong.unique()"
   ]
  },
  {
   "cell_type": "code",
   "execution_count": 17,
   "metadata": {},
   "outputs": [],
   "source": [
    "j_dong = ['청운효자동', '사직동', '삼청동', '부암동', '평창동', '무악동', '교남동', '가회동',\n",
    "       '종로1.2.3.4가동', '종로5.6가동', '이화동', '혜화동', '창신1동', '창신2동', '창신3동',\n",
    "       '숭인1동', '숭인2동']\n",
    "n_dong = ['월계1동','월계2동','월계3동',\n",
    "        '공릉1동','공릉2동',\n",
    "        '하계1동','하계2동',\n",
    "        '중계본동','중계1동','중계4동','중계2.3동',\n",
    "        '상계1동','상계2동','상계3.4동','상계5동','상계6.7동','상계8동','상계9동','상계10동']"
   ]
  },
  {
   "cell_type": "code",
   "execution_count": 18,
   "metadata": {},
   "outputs": [],
   "source": [
    "# 폴더 안에 있는 데이터 모두 대입해서 데이터 프레임 만들기\n",
    "from os import listdir\n",
    "from os.path import isfile, join\n",
    "\n",
    "files = [f for f in listdir('../data/유동인구데이터/성연령유동/') if isfile(join('../data/유동인구데이터/성연령유동/', f))]\n",
    "files\n",
    "        \n",
    "# 파일 경로명 리스트 생성하기\n",
    "file_path_list = []\n",
    "for file in files :\n",
    "    path = '../data/유동인구데이터/성연령유동/'\n",
    "    file_path_list.append(path+file)\n",
    "\n",
    "data_j = pd.DataFrame()\n",
    "data_n = pd.DataFrame()\n",
    "\n",
    "for path in file_path_list :\n",
    "    df = flow_df(path)\n",
    "    df_j = df.loc[df.Dong.isin(j_dong)]\n",
    "    df_n = df.loc[df.Dong.isin(n_dong)]\n",
    "    data_j = pd.concat([data_j,df_j])\n",
    "    data_n = pd.concat([data_n,df_n])"
   ]
  },
  {
   "cell_type": "markdown",
   "metadata": {},
   "source": [
    "### Dong 정리\n",
    ". 제거"
   ]
  },
  {
   "cell_type": "code",
   "execution_count": 33,
   "metadata": {
    "scrolled": true
   },
   "outputs": [],
   "source": [
    "for i in range(0,len(data_n)):\n",
    "    data_n.iloc[i,1] = data_n.iloc[i,1].replace(\".\",\"\")"
   ]
  },
  {
   "cell_type": "code",
   "execution_count": 38,
   "metadata": {},
   "outputs": [
    {
     "data": {
      "text/plain": [
       "array(['월계1동', '월계2동', '월계3동', '공릉1동', '공릉2동', '하계1동', '하계2동', '중계본동',\n",
       "       '중계1동', '중계4동', '중계23동', '상계1동', '상계2동', '상계34동', '상계5동', '상계67동',\n",
       "       '상계8동', '상계9동', '상계10동'], dtype=object)"
      ]
     },
     "execution_count": 38,
     "metadata": {},
     "output_type": "execute_result"
    }
   ],
   "source": [
    "data_n.Dong.unique()"
   ]
  },
  {
   "cell_type": "code",
   "execution_count": 36,
   "metadata": {},
   "outputs": [],
   "source": [
    "for i in range(0,len(data_j)):\n",
    "    data_j.iloc[i,1] = data_j.iloc[i,1].replace(\".\",\"\")"
   ]
  },
  {
   "cell_type": "code",
   "execution_count": 37,
   "metadata": {},
   "outputs": [
    {
     "data": {
      "text/plain": [
       "array(['청운효자동', '사직동', '삼청동', '부암동', '평창동', '무악동', '교남동', '가회동',\n",
       "       '종로1234가동', '종로56가동', '이화동', '혜화동', '창신1동', '창신2동', '창신3동', '숭인1동',\n",
       "       '숭인2동'], dtype=object)"
      ]
     },
     "execution_count": 37,
     "metadata": {},
     "output_type": "execute_result"
    }
   ],
   "source": [
    "data_j.Dong.unique()"
   ]
  },
  {
   "cell_type": "code",
   "execution_count": 39,
   "metadata": {},
   "outputs": [],
   "source": [
    "data_n.to_csv('../data/유동인구/성연령별_노원구_유동인구.csv', index=False, encoding='euc-kr')\n",
    "data_j.to_csv('../data/유동인구/성연령별_종로구_유동인구.csv', index =False, encoding='euc-kr')"
   ]
  },
  {
   "cell_type": "code",
   "execution_count": null,
   "metadata": {},
   "outputs": [],
   "source": []
  }
 ],
 "metadata": {
  "kernelspec": {
   "display_name": "Python 3",
   "language": "python",
   "name": "python3"
  },
  "language_info": {
   "codemirror_mode": {
    "name": "ipython",
    "version": 3
   },
   "file_extension": ".py",
   "mimetype": "text/x-python",
   "name": "python",
   "nbconvert_exporter": "python",
   "pygments_lexer": "ipython3",
   "version": "3.6.8"
  }
 },
 "nbformat": 4,
 "nbformat_minor": 2
}
